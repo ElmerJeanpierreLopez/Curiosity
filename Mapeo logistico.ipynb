{
  "metadata": {
    "kernelspec": {
      "name": "python",
      "display_name": "Python (Pyodide)",
      "language": "python"
    },
    "language_info": {
      "codemirror_mode": {
        "name": "python",
        "version": 3
      },
      "file_extension": ".py",
      "mimetype": "text/x-python",
      "name": "python",
      "nbconvert_exporter": "python",
      "pygments_lexer": "ipython3",
      "version": "3.8"
    }
  },
  "nbformat_minor": 4,
  "nbformat": 4,
  "cells": [
    {
      "cell_type": "markdown",
      "source": "# Mapeo logistico",
      "metadata": {}
    },
    {
      "cell_type": "code",
      "source": "# Librerías \nimport numpy as np\nimport matplotlib.pyplot as plt",
      "metadata": {
        "trusted": true
      },
      "outputs": [],
      "execution_count": null
    },
    {
      "cell_type": "code",
      "source": "# Definimos la función que calcula los resultados\n\nx0 = 0.5\niter = 1000\n\ndef series(x0, r, iter=1):\n\n    x = np.zeros(iter)\n    x[0] = x0\n    \n    for i in range(iter-1):\n        x[i+1] = r*x[i]*(1-x[i])\n\n    return x\n",
      "metadata": {
        "trusted": true
      },
      "outputs": [],
      "execution_count": null
    },
    {
      "cell_type": "code",
      "source": "# Hacemos algunas pruebas\n\ny = series(x0, 3.55, iter)\nplt.plot(range(iter),y)\nplt.grid()\nplt.show()\n",
      "metadata": {
        "trusted": true
      },
      "outputs": [],
      "execution_count": null
    },
    {
      "cell_type": "markdown",
      "source": "## Bifurcacion del mapeo logistico",
      "metadata": {}
    },
    {
      "cell_type": "code",
      "source": "# Definimos la función a utilizar la cual no almacenará\n",
      "metadata": {
        "trusted": true
      },
      "outputs": [],
      "execution_count": null
    },
    {
      "cell_type": "code",
      "source": "# Realizamos un mapeo\n\nr_values = np.linspace(3,4,2000)\niter = 1000\nlast = 800\n\nx = 1e-5 * np.ones(len(r_values))\n\nfor i in range(iter):\n    x = r_values * x * (1-x)\n    if i >= (iter - last):\n        plt.plot(r_values,x,',b', alpha = 0.3)\n\n\nplt.title('Bifurcación del mapeo logistico')\nplt.grid()\nplt.show()\n\n",
      "metadata": {
        "trusted": true
      },
      "outputs": [],
      "execution_count": null
    },
    {
      "cell_type": "markdown",
      "source": "## ¿Que pasa si optamos por un mapeo no logistico?",
      "metadata": {}
    },
    {
      "cell_type": "code",
      "source": "r_values = np.linspace(-2,5,1000)\niter = 1000\nlast = 400\n\nx = 1e-2 * np.ones(len(r_values))\n\nn = 0.9\n\nfor i in range(iter):\n    x = r_values * np.power(x,n) * (1-np.power(x,n))\n    if i >= (iter - last):\n        plt.plot(r_values,x,',b', alpha = 0.3)\n\n\nplt.title('Bifurcación del mapeo logistico n= '+str(n))\nplt.grid()\nplt.show()\n",
      "metadata": {
        "trusted": true
      },
      "outputs": [],
      "execution_count": null
    },
    {
      "cell_type": "markdown",
      "source": "## Control sencillo del caos\n\nBasado en el algoritmo de correción proporcional",
      "metadata": {}
    },
    {
      "cell_type": "code",
      "source": "# Definimos el objetivo\n\ntarget = 0.7",
      "metadata": {
        "trusted": true
      },
      "outputs": [],
      "execution_count": null
    },
    {
      "cell_type": "code",
      "source": "# Definimos los valores iniciales y las condiciones de simulación\nx0 = 0.5\nr0 = 3.9\niter = 1000",
      "metadata": {
        "trusted": true
      },
      "outputs": [],
      "execution_count": null
    },
    {
      "cell_type": "code",
      "source": "# Parametros del algoritmo de control proporcional\ntolerancia = 0.05\nk = 0.01\n\ndef control(x, r, target, tolerancia, k ):\n    if abs(x-target) >= tolerancia:\n        r = r + k*(target - x)\n    return r",
      "metadata": {
        "trusted": true
      },
      "outputs": [],
      "execution_count": null
    },
    {
      "cell_type": "code",
      "source": "# Realizamos la simulación \n    \nx = np.zeros(iter)\nr = np.zeros(iter)\n\nx[0] = x0\nr[0] = r0\n\nfor i in range(iter-1):\n    r[i+1] = control(x[i],r[i],target,tolerancia,k)\n    x[i+1] = series(x[i],r[i],iter)[-1] # Ultimo valor\n    \n# Grafica\nplt.plot(range(iter),x)\nplt.title(\"Control del caos\")\nplt.show()\n",
      "metadata": {
        "trusted": true
      },
      "outputs": [],
      "execution_count": null
    },
    {
      "cell_type": "code",
      "source": "# Grafica\nplt.plot(range(iter),r)\nplt.title(\"Valores de r\")\nplt.grid()\nplt.show()",
      "metadata": {
        "trusted": true
      },
      "outputs": [],
      "execution_count": null
    },
    {
      "cell_type": "code",
      "source": "",
      "metadata": {
        "trusted": true
      },
      "outputs": [],
      "execution_count": null
    }
  ]
}